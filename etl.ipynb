{
 "metadata": {
  "language_info": {
   "codemirror_mode": {
    "name": "ipython",
    "version": 3
   },
   "file_extension": ".py",
   "mimetype": "text/x-python",
   "name": "python",
   "nbconvert_exporter": "python",
   "pygments_lexer": "ipython3",
   "version": "3.7.6-final"
  },
  "orig_nbformat": 2,
  "kernelspec": {
   "name": "python3",
   "display_name": "Python 3"
  }
 },
 "nbformat": 4,
 "nbformat_minor": 2,
 "cells": [
  {
   "cell_type": "code",
   "execution_count": 1,
   "metadata": {},
   "outputs": [],
   "source": [
    "import os\n",
    "import glob\n",
    "import psycopg2\n",
    "import pandas as pd\n",
    "from sql_queries import *"
   ]
  },
  {
   "cell_type": "code",
   "execution_count": 2,
   "metadata": {},
   "outputs": [],
   "source": [
    "conn = psycopg2.connect(database=\"startupdb\", user='postgres', password='12345', host='127.0.0.1', port='5432')\n",
    "cursor = conn.cursor()"
   ]
  },
  {
   "source": [
    "## get_files : get a list of all song JSON files in data/song_data"
   ],
   "cell_type": "markdown",
   "metadata": {}
  },
  {
   "cell_type": "code",
   "execution_count": 3,
   "metadata": {},
   "outputs": [],
   "source": [
    "def get_files(filepath):\n",
    "    all_files = []\n",
    "    for root, dirs, files in os.walk(filepath):\n",
    "        files = glob.glob(os.path.join(root, '*.json'))\n",
    "        for f in files:\n",
    "            all_files.append(os.path.abspath(f))\n",
    "    return all_files"
   ]
  },
  {
   "source": [
    " # Process song_data :\n",
    " ##  ETL on the dataset song_data :\n",
    " ###   ETL on a single song file and load a single record into each table to start :"
   ],
   "cell_type": "markdown",
   "metadata": {}
  },
  {
   "source": [
    "## creating songs table :"
   ],
   "cell_type": "markdown",
   "metadata": {}
  },
  {
   "cell_type": "code",
   "execution_count": 4,
   "metadata": {},
   "outputs": [
    {
     "output_type": "execute_result",
     "data": {
      "text/plain": [
       "['c:\\\\Users\\\\soumm\\\\OneDrive\\\\Desktop\\\\Work\\\\Udacity\\\\Data Engineering\\\\Data Modeling with Postgres\\\\data\\\\song_data\\\\A\\\\A\\\\A\\\\TRAAAAW128F429D538.json',\n",
       " 'c:\\\\Users\\\\soumm\\\\OneDrive\\\\Desktop\\\\Work\\\\Udacity\\\\Data Engineering\\\\Data Modeling with Postgres\\\\data\\\\song_data\\\\A\\\\A\\\\A\\\\TRAAABD128F429CF47.json',\n",
       " 'c:\\\\Users\\\\soumm\\\\OneDrive\\\\Desktop\\\\Work\\\\Udacity\\\\Data Engineering\\\\Data Modeling with Postgres\\\\data\\\\song_data\\\\A\\\\A\\\\A\\\\TRAAADZ128F9348C2E.json',\n",
       " 'c:\\\\Users\\\\soumm\\\\OneDrive\\\\Desktop\\\\Work\\\\Udacity\\\\Data Engineering\\\\Data Modeling with Postgres\\\\data\\\\song_data\\\\A\\\\A\\\\A\\\\TRAAAEF128F4273421.json',\n",
       " 'c:\\\\Users\\\\soumm\\\\OneDrive\\\\Desktop\\\\Work\\\\Udacity\\\\Data Engineering\\\\Data Modeling with Postgres\\\\data\\\\song_data\\\\A\\\\A\\\\A\\\\TRAAAFD128F92F423A.json']"
      ]
     },
     "metadata": {},
     "execution_count": 4
    }
   ],
   "source": [
    "song_files = get_files(\"data/song_data\")\n",
    "song_files[:5]"
   ]
  },
  {
   "cell_type": "code",
   "execution_count": 5,
   "metadata": {},
   "outputs": [
    {
     "output_type": "execute_result",
     "data": {
      "text/plain": [
       "   num_songs           artist_id  artist_latitude  artist_longitude  \\\n",
       "0          1  ARD7TVE1187B99BFB1              NaN               NaN   \n",
       "\n",
       "   artist_location artist_name             song_id             title  \\\n",
       "0  California - LA      Casual  SOMZWCG12A8C13C480  I Didn't Mean To   \n",
       "\n",
       "    duration  year  \n",
       "0  218.93179     0  "
      ],
      "text/html": "<div>\n<style scoped>\n    .dataframe tbody tr th:only-of-type {\n        vertical-align: middle;\n    }\n\n    .dataframe tbody tr th {\n        vertical-align: top;\n    }\n\n    .dataframe thead th {\n        text-align: right;\n    }\n</style>\n<table border=\"1\" class=\"dataframe\">\n  <thead>\n    <tr style=\"text-align: right;\">\n      <th></th>\n      <th>num_songs</th>\n      <th>artist_id</th>\n      <th>artist_latitude</th>\n      <th>artist_longitude</th>\n      <th>artist_location</th>\n      <th>artist_name</th>\n      <th>song_id</th>\n      <th>title</th>\n      <th>duration</th>\n      <th>year</th>\n    </tr>\n  </thead>\n  <tbody>\n    <tr>\n      <th>0</th>\n      <td>1</td>\n      <td>ARD7TVE1187B99BFB1</td>\n      <td>NaN</td>\n      <td>NaN</td>\n      <td>California - LA</td>\n      <td>Casual</td>\n      <td>SOMZWCG12A8C13C480</td>\n      <td>I Didn't Mean To</td>\n      <td>218.93179</td>\n      <td>0</td>\n    </tr>\n  </tbody>\n</table>\n</div>"
     },
     "metadata": {},
     "execution_count": 5
    }
   ],
   "source": [
    "first = song_files[0]\n",
    "df = pd.read_json(first, lines=True)\n",
    "df.head()"
   ]
  },
  {
   "source": [
    "### extract songs data"
   ],
   "cell_type": "markdown",
   "metadata": {}
  },
  {
   "cell_type": "code",
   "execution_count": 6,
   "metadata": {},
   "outputs": [
    {
     "output_type": "execute_result",
     "data": {
      "text/plain": [
       "['SOMZWCG12A8C13C480', \"I Didn't Mean To\", 'ARD7TVE1187B99BFB1', 0, 218.93179]"
      ]
     },
     "metadata": {},
     "execution_count": 6
    }
   ],
   "source": [
    "song_data = df[['song_id', 'title', 'artist_id', 'year', 'duration']].values[0].tolist()\n",
    "song_data"
   ]
  },
  {
   "source": [
    "### insert data into songs table"
   ],
   "cell_type": "markdown",
   "metadata": {}
  },
  {
   "cell_type": "code",
   "execution_count": 7,
   "metadata": {},
   "outputs": [],
   "source": [
    "cursor.execute(songs_table_insert, song_data)\n",
    "conn.commit()"
   ]
  },
  {
   "source": [
    "## Creating artists table :"
   ],
   "cell_type": "markdown",
   "metadata": {}
  },
  {
   "cell_type": "code",
   "execution_count": 8,
   "metadata": {},
   "outputs": [
    {
     "output_type": "execute_result",
     "data": {
      "text/plain": [
       "   num_songs           artist_id  artist_latitude  artist_longitude  \\\n",
       "0          1  ARD7TVE1187B99BFB1              NaN               NaN   \n",
       "\n",
       "   artist_location artist_name             song_id             title  \\\n",
       "0  California - LA      Casual  SOMZWCG12A8C13C480  I Didn't Mean To   \n",
       "\n",
       "    duration  year  \n",
       "0  218.93179     0  "
      ],
      "text/html": "<div>\n<style scoped>\n    .dataframe tbody tr th:only-of-type {\n        vertical-align: middle;\n    }\n\n    .dataframe tbody tr th {\n        vertical-align: top;\n    }\n\n    .dataframe thead th {\n        text-align: right;\n    }\n</style>\n<table border=\"1\" class=\"dataframe\">\n  <thead>\n    <tr style=\"text-align: right;\">\n      <th></th>\n      <th>num_songs</th>\n      <th>artist_id</th>\n      <th>artist_latitude</th>\n      <th>artist_longitude</th>\n      <th>artist_location</th>\n      <th>artist_name</th>\n      <th>song_id</th>\n      <th>title</th>\n      <th>duration</th>\n      <th>year</th>\n    </tr>\n  </thead>\n  <tbody>\n    <tr>\n      <th>0</th>\n      <td>1</td>\n      <td>ARD7TVE1187B99BFB1</td>\n      <td>NaN</td>\n      <td>NaN</td>\n      <td>California - LA</td>\n      <td>Casual</td>\n      <td>SOMZWCG12A8C13C480</td>\n      <td>I Didn't Mean To</td>\n      <td>218.93179</td>\n      <td>0</td>\n    </tr>\n  </tbody>\n</table>\n</div>"
     },
     "metadata": {},
     "execution_count": 8
    }
   ],
   "source": [
    "df.head()"
   ]
  },
  {
   "source": [
    "### extract artists data"
   ],
   "cell_type": "markdown",
   "metadata": {}
  },
  {
   "source": [
    "artist_data = df[[\"artist_id\", \"artist_name\", \"artist_location\", \"artist_latitude\", \"artist_longitude\"]].values[0].tolist()\n",
    "artist_data"
   ],
   "cell_type": "code",
   "metadata": {},
   "execution_count": 9,
   "outputs": [
    {
     "output_type": "execute_result",
     "data": {
      "text/plain": [
       "['ARD7TVE1187B99BFB1', 'Casual', 'California - LA', nan, nan]"
      ]
     },
     "metadata": {},
     "execution_count": 9
    }
   ]
  },
  {
   "source": [
    "### insert data into songs table"
   ],
   "cell_type": "markdown",
   "metadata": {}
  },
  {
   "cell_type": "code",
   "execution_count": 10,
   "metadata": {},
   "outputs": [],
   "source": [
    "cursor.execute(artists_table_insert, artist_data)\n",
    "conn.commit()"
   ]
  },
  {
   "source": [
    "# Process log_data :\n",
    "##  ETL on the dataset log_data :\n",
    "###  ETL on a single log file and load a single record into each table :"
   ],
   "cell_type": "markdown",
   "metadata": {}
  },
  {
   "cell_type": "code",
   "execution_count": 11,
   "metadata": {},
   "outputs": [
    {
     "output_type": "execute_result",
     "data": {
      "text/plain": [
       "    artist       auth firstName gender  itemInSession lastName     length  \\\n",
       "0     None  Logged In    Walter      M              0     Frye        NaN   \n",
       "1     None  Logged In    Kaylee      F              0  Summers        NaN   \n",
       "2  Des'ree  Logged In    Kaylee      F              1  Summers  246.30812   \n",
       "3     None  Logged In    Kaylee      F              2  Summers        NaN   \n",
       "4  Mr Oizo  Logged In    Kaylee      F              3  Summers  144.03873   \n",
       "\n",
       "  level                           location method      page   registration  \\\n",
       "0  free  San Francisco-Oakland-Hayward, CA    GET      Home  1540919166796   \n",
       "1  free        Phoenix-Mesa-Scottsdale, AZ    GET      Home  1540344794796   \n",
       "2  free        Phoenix-Mesa-Scottsdale, AZ    PUT  NextSong  1540344794796   \n",
       "3  free        Phoenix-Mesa-Scottsdale, AZ    GET   Upgrade  1540344794796   \n",
       "4  free        Phoenix-Mesa-Scottsdale, AZ    PUT  NextSong  1540344794796   \n",
       "\n",
       "   sessionId          song  status             ts  \\\n",
       "0         38          None     200  1541105830796   \n",
       "1        139          None     200  1541106106796   \n",
       "2        139  You Gotta Be     200  1541106106796   \n",
       "3        139          None     200  1541106132796   \n",
       "4        139       Flat 55     200  1541106352796   \n",
       "\n",
       "                                           userAgent  userId  \n",
       "0  \"Mozilla/5.0 (Macintosh; Intel Mac OS X 10_9_4...      39  \n",
       "1  \"Mozilla/5.0 (Windows NT 6.1; WOW64) AppleWebK...       8  \n",
       "2  \"Mozilla/5.0 (Windows NT 6.1; WOW64) AppleWebK...       8  \n",
       "3  \"Mozilla/5.0 (Windows NT 6.1; WOW64) AppleWebK...       8  \n",
       "4  \"Mozilla/5.0 (Windows NT 6.1; WOW64) AppleWebK...       8  "
      ],
      "text/html": "<div>\n<style scoped>\n    .dataframe tbody tr th:only-of-type {\n        vertical-align: middle;\n    }\n\n    .dataframe tbody tr th {\n        vertical-align: top;\n    }\n\n    .dataframe thead th {\n        text-align: right;\n    }\n</style>\n<table border=\"1\" class=\"dataframe\">\n  <thead>\n    <tr style=\"text-align: right;\">\n      <th></th>\n      <th>artist</th>\n      <th>auth</th>\n      <th>firstName</th>\n      <th>gender</th>\n      <th>itemInSession</th>\n      <th>lastName</th>\n      <th>length</th>\n      <th>level</th>\n      <th>location</th>\n      <th>method</th>\n      <th>page</th>\n      <th>registration</th>\n      <th>sessionId</th>\n      <th>song</th>\n      <th>status</th>\n      <th>ts</th>\n      <th>userAgent</th>\n      <th>userId</th>\n    </tr>\n  </thead>\n  <tbody>\n    <tr>\n      <th>0</th>\n      <td>None</td>\n      <td>Logged In</td>\n      <td>Walter</td>\n      <td>M</td>\n      <td>0</td>\n      <td>Frye</td>\n      <td>NaN</td>\n      <td>free</td>\n      <td>San Francisco-Oakland-Hayward, CA</td>\n      <td>GET</td>\n      <td>Home</td>\n      <td>1540919166796</td>\n      <td>38</td>\n      <td>None</td>\n      <td>200</td>\n      <td>1541105830796</td>\n      <td>\"Mozilla/5.0 (Macintosh; Intel Mac OS X 10_9_4...</td>\n      <td>39</td>\n    </tr>\n    <tr>\n      <th>1</th>\n      <td>None</td>\n      <td>Logged In</td>\n      <td>Kaylee</td>\n      <td>F</td>\n      <td>0</td>\n      <td>Summers</td>\n      <td>NaN</td>\n      <td>free</td>\n      <td>Phoenix-Mesa-Scottsdale, AZ</td>\n      <td>GET</td>\n      <td>Home</td>\n      <td>1540344794796</td>\n      <td>139</td>\n      <td>None</td>\n      <td>200</td>\n      <td>1541106106796</td>\n      <td>\"Mozilla/5.0 (Windows NT 6.1; WOW64) AppleWebK...</td>\n      <td>8</td>\n    </tr>\n    <tr>\n      <th>2</th>\n      <td>Des'ree</td>\n      <td>Logged In</td>\n      <td>Kaylee</td>\n      <td>F</td>\n      <td>1</td>\n      <td>Summers</td>\n      <td>246.30812</td>\n      <td>free</td>\n      <td>Phoenix-Mesa-Scottsdale, AZ</td>\n      <td>PUT</td>\n      <td>NextSong</td>\n      <td>1540344794796</td>\n      <td>139</td>\n      <td>You Gotta Be</td>\n      <td>200</td>\n      <td>1541106106796</td>\n      <td>\"Mozilla/5.0 (Windows NT 6.1; WOW64) AppleWebK...</td>\n      <td>8</td>\n    </tr>\n    <tr>\n      <th>3</th>\n      <td>None</td>\n      <td>Logged In</td>\n      <td>Kaylee</td>\n      <td>F</td>\n      <td>2</td>\n      <td>Summers</td>\n      <td>NaN</td>\n      <td>free</td>\n      <td>Phoenix-Mesa-Scottsdale, AZ</td>\n      <td>GET</td>\n      <td>Upgrade</td>\n      <td>1540344794796</td>\n      <td>139</td>\n      <td>None</td>\n      <td>200</td>\n      <td>1541106132796</td>\n      <td>\"Mozilla/5.0 (Windows NT 6.1; WOW64) AppleWebK...</td>\n      <td>8</td>\n    </tr>\n    <tr>\n      <th>4</th>\n      <td>Mr Oizo</td>\n      <td>Logged In</td>\n      <td>Kaylee</td>\n      <td>F</td>\n      <td>3</td>\n      <td>Summers</td>\n      <td>144.03873</td>\n      <td>free</td>\n      <td>Phoenix-Mesa-Scottsdale, AZ</td>\n      <td>PUT</td>\n      <td>NextSong</td>\n      <td>1540344794796</td>\n      <td>139</td>\n      <td>Flat 55</td>\n      <td>200</td>\n      <td>1541106352796</td>\n      <td>\"Mozilla/5.0 (Windows NT 6.1; WOW64) AppleWebK...</td>\n      <td>8</td>\n    </tr>\n  </tbody>\n</table>\n</div>"
     },
     "metadata": {},
     "execution_count": 11
    }
   ],
   "source": [
    "log_files = get_files(\"data/log_data\")\n",
    "first = log_files[0]\n",
    "df = pd.read_json(first, lines=True)\n",
    "df.head()"
   ]
  },
  {
   "source": [
    "## creating songs table :"
   ],
   "cell_type": "markdown",
   "metadata": {}
  },
  {
   "cell_type": "code",
   "execution_count": 12,
   "metadata": {},
   "outputs": [
    {
     "output_type": "execute_result",
     "data": {
      "text/plain": [
       "              artist       auth firstName gender  itemInSession lastName  \\\n",
       "2            Des'ree  Logged In    Kaylee      F              1  Summers   \n",
       "4            Mr Oizo  Logged In    Kaylee      F              3  Summers   \n",
       "5         Tamba Trio  Logged In    Kaylee      F              4  Summers   \n",
       "6     The Mars Volta  Logged In    Kaylee      F              5  Summers   \n",
       "7  Infected Mushroom  Logged In    Kaylee      F              6  Summers   \n",
       "\n",
       "      length level                     location method      page  \\\n",
       "2  246.30812  free  Phoenix-Mesa-Scottsdale, AZ    PUT  NextSong   \n",
       "4  144.03873  free  Phoenix-Mesa-Scottsdale, AZ    PUT  NextSong   \n",
       "5  177.18812  free  Phoenix-Mesa-Scottsdale, AZ    PUT  NextSong   \n",
       "6  380.42077  free  Phoenix-Mesa-Scottsdale, AZ    PUT  NextSong   \n",
       "7  440.26730  free  Phoenix-Mesa-Scottsdale, AZ    PUT  NextSong   \n",
       "\n",
       "    registration  sessionId                          song  status  \\\n",
       "2  1540344794796        139                  You Gotta Be     200   \n",
       "4  1540344794796        139                       Flat 55     200   \n",
       "5  1540344794796        139  Quem Quiser Encontrar O Amor     200   \n",
       "6  1540344794796        139                     Eriatarka     200   \n",
       "7  1540344794796        139               Becoming Insane     200   \n",
       "\n",
       "              ts                                          userAgent  userId  \n",
       "2  1541106106796  \"Mozilla/5.0 (Windows NT 6.1; WOW64) AppleWebK...       8  \n",
       "4  1541106352796  \"Mozilla/5.0 (Windows NT 6.1; WOW64) AppleWebK...       8  \n",
       "5  1541106496796  \"Mozilla/5.0 (Windows NT 6.1; WOW64) AppleWebK...       8  \n",
       "6  1541106673796  \"Mozilla/5.0 (Windows NT 6.1; WOW64) AppleWebK...       8  \n",
       "7  1541107053796  \"Mozilla/5.0 (Windows NT 6.1; WOW64) AppleWebK...       8  "
      ],
      "text/html": "<div>\n<style scoped>\n    .dataframe tbody tr th:only-of-type {\n        vertical-align: middle;\n    }\n\n    .dataframe tbody tr th {\n        vertical-align: top;\n    }\n\n    .dataframe thead th {\n        text-align: right;\n    }\n</style>\n<table border=\"1\" class=\"dataframe\">\n  <thead>\n    <tr style=\"text-align: right;\">\n      <th></th>\n      <th>artist</th>\n      <th>auth</th>\n      <th>firstName</th>\n      <th>gender</th>\n      <th>itemInSession</th>\n      <th>lastName</th>\n      <th>length</th>\n      <th>level</th>\n      <th>location</th>\n      <th>method</th>\n      <th>page</th>\n      <th>registration</th>\n      <th>sessionId</th>\n      <th>song</th>\n      <th>status</th>\n      <th>ts</th>\n      <th>userAgent</th>\n      <th>userId</th>\n    </tr>\n  </thead>\n  <tbody>\n    <tr>\n      <th>2</th>\n      <td>Des'ree</td>\n      <td>Logged In</td>\n      <td>Kaylee</td>\n      <td>F</td>\n      <td>1</td>\n      <td>Summers</td>\n      <td>246.30812</td>\n      <td>free</td>\n      <td>Phoenix-Mesa-Scottsdale, AZ</td>\n      <td>PUT</td>\n      <td>NextSong</td>\n      <td>1540344794796</td>\n      <td>139</td>\n      <td>You Gotta Be</td>\n      <td>200</td>\n      <td>1541106106796</td>\n      <td>\"Mozilla/5.0 (Windows NT 6.1; WOW64) AppleWebK...</td>\n      <td>8</td>\n    </tr>\n    <tr>\n      <th>4</th>\n      <td>Mr Oizo</td>\n      <td>Logged In</td>\n      <td>Kaylee</td>\n      <td>F</td>\n      <td>3</td>\n      <td>Summers</td>\n      <td>144.03873</td>\n      <td>free</td>\n      <td>Phoenix-Mesa-Scottsdale, AZ</td>\n      <td>PUT</td>\n      <td>NextSong</td>\n      <td>1540344794796</td>\n      <td>139</td>\n      <td>Flat 55</td>\n      <td>200</td>\n      <td>1541106352796</td>\n      <td>\"Mozilla/5.0 (Windows NT 6.1; WOW64) AppleWebK...</td>\n      <td>8</td>\n    </tr>\n    <tr>\n      <th>5</th>\n      <td>Tamba Trio</td>\n      <td>Logged In</td>\n      <td>Kaylee</td>\n      <td>F</td>\n      <td>4</td>\n      <td>Summers</td>\n      <td>177.18812</td>\n      <td>free</td>\n      <td>Phoenix-Mesa-Scottsdale, AZ</td>\n      <td>PUT</td>\n      <td>NextSong</td>\n      <td>1540344794796</td>\n      <td>139</td>\n      <td>Quem Quiser Encontrar O Amor</td>\n      <td>200</td>\n      <td>1541106496796</td>\n      <td>\"Mozilla/5.0 (Windows NT 6.1; WOW64) AppleWebK...</td>\n      <td>8</td>\n    </tr>\n    <tr>\n      <th>6</th>\n      <td>The Mars Volta</td>\n      <td>Logged In</td>\n      <td>Kaylee</td>\n      <td>F</td>\n      <td>5</td>\n      <td>Summers</td>\n      <td>380.42077</td>\n      <td>free</td>\n      <td>Phoenix-Mesa-Scottsdale, AZ</td>\n      <td>PUT</td>\n      <td>NextSong</td>\n      <td>1540344794796</td>\n      <td>139</td>\n      <td>Eriatarka</td>\n      <td>200</td>\n      <td>1541106673796</td>\n      <td>\"Mozilla/5.0 (Windows NT 6.1; WOW64) AppleWebK...</td>\n      <td>8</td>\n    </tr>\n    <tr>\n      <th>7</th>\n      <td>Infected Mushroom</td>\n      <td>Logged In</td>\n      <td>Kaylee</td>\n      <td>F</td>\n      <td>6</td>\n      <td>Summers</td>\n      <td>440.26730</td>\n      <td>free</td>\n      <td>Phoenix-Mesa-Scottsdale, AZ</td>\n      <td>PUT</td>\n      <td>NextSong</td>\n      <td>1540344794796</td>\n      <td>139</td>\n      <td>Becoming Insane</td>\n      <td>200</td>\n      <td>1541107053796</td>\n      <td>\"Mozilla/5.0 (Windows NT 6.1; WOW64) AppleWebK...</td>\n      <td>8</td>\n    </tr>\n  </tbody>\n</table>\n</div>"
     },
     "metadata": {},
     "execution_count": 12
    }
   ],
   "source": [
    "#Filter records by NextSong action\n",
    "df = df[df['page'] == 'NextSong']\n",
    "df.head()"
   ]
  },
  {
   "source": [
    "### extract time data"
   ],
   "cell_type": "markdown",
   "metadata": {}
  },
  {
   "cell_type": "code",
   "execution_count": 13,
   "metadata": {},
   "outputs": [
    {
     "output_type": "execute_result",
     "data": {
      "text/plain": [
       "2   2018-11-01 21:01:46.796\n",
       "4   2018-11-01 21:05:52.796\n",
       "5   2018-11-01 21:08:16.796\n",
       "6   2018-11-01 21:11:13.796\n",
       "7   2018-11-01 21:17:33.796\n",
       "Name: ts, dtype: datetime64[ns]"
      ]
     },
     "metadata": {},
     "execution_count": 13
    }
   ],
   "source": [
    "#Convert the ts timestamp column to datetime\n",
    "# convert time to ms\n",
    "time = pd.to_datetime(df[\"ts\"], unit = 'ms')\n",
    "time.head()"
   ]
  },
  {
   "cell_type": "code",
   "execution_count": 14,
   "metadata": {},
   "outputs": [],
   "source": [
    "time_data = [[x, x.hour, x.day, x.week, x.month, x.year, x.dayofweek] for x in time]\n",
    "column_labels = ['start_time', 'hour', 'day', 'week', 'month', 'year', 'weekday']"
   ]
  },
  {
   "cell_type": "code",
   "execution_count": 15,
   "metadata": {},
   "outputs": [
    {
     "output_type": "execute_result",
     "data": {
      "text/plain": [
       "                start_time  hour  day  week  month  year  weekday\n",
       "0  2018-11-01 21:01:46.796    21    1    44     11  2018        3\n",
       "1  2018-11-01 21:05:52.796    21    1    44     11  2018        3\n",
       "2  2018-11-01 21:08:16.796    21    1    44     11  2018        3\n",
       "3  2018-11-01 21:11:13.796    21    1    44     11  2018        3\n",
       "4  2018-11-01 21:17:33.796    21    1    44     11  2018        3\n",
       "5  2018-11-01 21:24:53.796    21    1    44     11  2018        3\n",
       "6  2018-11-01 21:28:54.796    21    1    44     11  2018        3\n",
       "7  2018-11-01 21:42:00.796    21    1    44     11  2018        3\n",
       "8  2018-11-01 21:52:05.796    21    1    44     11  2018        3\n",
       "9  2018-11-01 21:55:25.796    21    1    44     11  2018        3\n",
       "10 2018-11-01 22:23:14.796    22    1    44     11  2018        3"
      ],
      "text/html": "<div>\n<style scoped>\n    .dataframe tbody tr th:only-of-type {\n        vertical-align: middle;\n    }\n\n    .dataframe tbody tr th {\n        vertical-align: top;\n    }\n\n    .dataframe thead th {\n        text-align: right;\n    }\n</style>\n<table border=\"1\" class=\"dataframe\">\n  <thead>\n    <tr style=\"text-align: right;\">\n      <th></th>\n      <th>start_time</th>\n      <th>hour</th>\n      <th>day</th>\n      <th>week</th>\n      <th>month</th>\n      <th>year</th>\n      <th>weekday</th>\n    </tr>\n  </thead>\n  <tbody>\n    <tr>\n      <th>0</th>\n      <td>2018-11-01 21:01:46.796</td>\n      <td>21</td>\n      <td>1</td>\n      <td>44</td>\n      <td>11</td>\n      <td>2018</td>\n      <td>3</td>\n    </tr>\n    <tr>\n      <th>1</th>\n      <td>2018-11-01 21:05:52.796</td>\n      <td>21</td>\n      <td>1</td>\n      <td>44</td>\n      <td>11</td>\n      <td>2018</td>\n      <td>3</td>\n    </tr>\n    <tr>\n      <th>2</th>\n      <td>2018-11-01 21:08:16.796</td>\n      <td>21</td>\n      <td>1</td>\n      <td>44</td>\n      <td>11</td>\n      <td>2018</td>\n      <td>3</td>\n    </tr>\n    <tr>\n      <th>3</th>\n      <td>2018-11-01 21:11:13.796</td>\n      <td>21</td>\n      <td>1</td>\n      <td>44</td>\n      <td>11</td>\n      <td>2018</td>\n      <td>3</td>\n    </tr>\n    <tr>\n      <th>4</th>\n      <td>2018-11-01 21:17:33.796</td>\n      <td>21</td>\n      <td>1</td>\n      <td>44</td>\n      <td>11</td>\n      <td>2018</td>\n      <td>3</td>\n    </tr>\n    <tr>\n      <th>5</th>\n      <td>2018-11-01 21:24:53.796</td>\n      <td>21</td>\n      <td>1</td>\n      <td>44</td>\n      <td>11</td>\n      <td>2018</td>\n      <td>3</td>\n    </tr>\n    <tr>\n      <th>6</th>\n      <td>2018-11-01 21:28:54.796</td>\n      <td>21</td>\n      <td>1</td>\n      <td>44</td>\n      <td>11</td>\n      <td>2018</td>\n      <td>3</td>\n    </tr>\n    <tr>\n      <th>7</th>\n      <td>2018-11-01 21:42:00.796</td>\n      <td>21</td>\n      <td>1</td>\n      <td>44</td>\n      <td>11</td>\n      <td>2018</td>\n      <td>3</td>\n    </tr>\n    <tr>\n      <th>8</th>\n      <td>2018-11-01 21:52:05.796</td>\n      <td>21</td>\n      <td>1</td>\n      <td>44</td>\n      <td>11</td>\n      <td>2018</td>\n      <td>3</td>\n    </tr>\n    <tr>\n      <th>9</th>\n      <td>2018-11-01 21:55:25.796</td>\n      <td>21</td>\n      <td>1</td>\n      <td>44</td>\n      <td>11</td>\n      <td>2018</td>\n      <td>3</td>\n    </tr>\n    <tr>\n      <th>10</th>\n      <td>2018-11-01 22:23:14.796</td>\n      <td>22</td>\n      <td>1</td>\n      <td>44</td>\n      <td>11</td>\n      <td>2018</td>\n      <td>3</td>\n    </tr>\n  </tbody>\n</table>\n</div>"
     },
     "metadata": {},
     "execution_count": 15
    }
   ],
   "source": [
    "time_df = pd.DataFrame(time_data, columns=column_labels)\n",
    "time_df"
   ]
  },
  {
   "source": [
    "### insert data into time table"
   ],
   "cell_type": "markdown",
   "metadata": {}
  },
  {
   "cell_type": "code",
   "execution_count": 16,
   "metadata": {},
   "outputs": [],
   "source": [
    "for i, row in time_df.iterrows():\n",
    "    cursor.execute(time_table_insert, list(row))\n",
    "    conn.commit()"
   ]
  },
  {
   "source": [
    "## creating users table :"
   ],
   "cell_type": "markdown",
   "metadata": {}
  },
  {
   "cell_type": "code",
   "execution_count": 17,
   "metadata": {},
   "outputs": [],
   "source": [
    "user_df = df[[\"userId\", \"firstName\", \"lastName\", \"gender\", \"level\"]]\n"
   ]
  },
  {
   "source": [
    "### insert records into users data"
   ],
   "cell_type": "markdown",
   "metadata": {}
  },
  {
   "source": [
    "for i, row in user_df.iterrows():\n",
    "    cursor.execute(users_table_insert, row)\n",
    "    conn.commit()"
   ],
   "cell_type": "code",
   "metadata": {},
   "execution_count": 18,
   "outputs": []
  },
  {
   "source": [
    "## creating songplays table :"
   ],
   "cell_type": "markdown",
   "metadata": {}
  },
  {
   "cell_type": "code",
   "execution_count": 19,
   "metadata": {},
   "outputs": [
    {
     "output_type": "execute_result",
     "data": {
      "text/plain": [
       "              artist       auth firstName gender  itemInSession lastName  \\\n",
       "2            Des'ree  Logged In    Kaylee      F              1  Summers   \n",
       "4            Mr Oizo  Logged In    Kaylee      F              3  Summers   \n",
       "5         Tamba Trio  Logged In    Kaylee      F              4  Summers   \n",
       "6     The Mars Volta  Logged In    Kaylee      F              5  Summers   \n",
       "7  Infected Mushroom  Logged In    Kaylee      F              6  Summers   \n",
       "\n",
       "      length level                     location method      page  \\\n",
       "2  246.30812  free  Phoenix-Mesa-Scottsdale, AZ    PUT  NextSong   \n",
       "4  144.03873  free  Phoenix-Mesa-Scottsdale, AZ    PUT  NextSong   \n",
       "5  177.18812  free  Phoenix-Mesa-Scottsdale, AZ    PUT  NextSong   \n",
       "6  380.42077  free  Phoenix-Mesa-Scottsdale, AZ    PUT  NextSong   \n",
       "7  440.26730  free  Phoenix-Mesa-Scottsdale, AZ    PUT  NextSong   \n",
       "\n",
       "    registration  sessionId                          song  status  \\\n",
       "2  1540344794796        139                  You Gotta Be     200   \n",
       "4  1540344794796        139                       Flat 55     200   \n",
       "5  1540344794796        139  Quem Quiser Encontrar O Amor     200   \n",
       "6  1540344794796        139                     Eriatarka     200   \n",
       "7  1540344794796        139               Becoming Insane     200   \n",
       "\n",
       "              ts                                          userAgent  userId  \n",
       "2  1541106106796  \"Mozilla/5.0 (Windows NT 6.1; WOW64) AppleWebK...       8  \n",
       "4  1541106352796  \"Mozilla/5.0 (Windows NT 6.1; WOW64) AppleWebK...       8  \n",
       "5  1541106496796  \"Mozilla/5.0 (Windows NT 6.1; WOW64) AppleWebK...       8  \n",
       "6  1541106673796  \"Mozilla/5.0 (Windows NT 6.1; WOW64) AppleWebK...       8  \n",
       "7  1541107053796  \"Mozilla/5.0 (Windows NT 6.1; WOW64) AppleWebK...       8  "
      ],
      "text/html": "<div>\n<style scoped>\n    .dataframe tbody tr th:only-of-type {\n        vertical-align: middle;\n    }\n\n    .dataframe tbody tr th {\n        vertical-align: top;\n    }\n\n    .dataframe thead th {\n        text-align: right;\n    }\n</style>\n<table border=\"1\" class=\"dataframe\">\n  <thead>\n    <tr style=\"text-align: right;\">\n      <th></th>\n      <th>artist</th>\n      <th>auth</th>\n      <th>firstName</th>\n      <th>gender</th>\n      <th>itemInSession</th>\n      <th>lastName</th>\n      <th>length</th>\n      <th>level</th>\n      <th>location</th>\n      <th>method</th>\n      <th>page</th>\n      <th>registration</th>\n      <th>sessionId</th>\n      <th>song</th>\n      <th>status</th>\n      <th>ts</th>\n      <th>userAgent</th>\n      <th>userId</th>\n    </tr>\n  </thead>\n  <tbody>\n    <tr>\n      <th>2</th>\n      <td>Des'ree</td>\n      <td>Logged In</td>\n      <td>Kaylee</td>\n      <td>F</td>\n      <td>1</td>\n      <td>Summers</td>\n      <td>246.30812</td>\n      <td>free</td>\n      <td>Phoenix-Mesa-Scottsdale, AZ</td>\n      <td>PUT</td>\n      <td>NextSong</td>\n      <td>1540344794796</td>\n      <td>139</td>\n      <td>You Gotta Be</td>\n      <td>200</td>\n      <td>1541106106796</td>\n      <td>\"Mozilla/5.0 (Windows NT 6.1; WOW64) AppleWebK...</td>\n      <td>8</td>\n    </tr>\n    <tr>\n      <th>4</th>\n      <td>Mr Oizo</td>\n      <td>Logged In</td>\n      <td>Kaylee</td>\n      <td>F</td>\n      <td>3</td>\n      <td>Summers</td>\n      <td>144.03873</td>\n      <td>free</td>\n      <td>Phoenix-Mesa-Scottsdale, AZ</td>\n      <td>PUT</td>\n      <td>NextSong</td>\n      <td>1540344794796</td>\n      <td>139</td>\n      <td>Flat 55</td>\n      <td>200</td>\n      <td>1541106352796</td>\n      <td>\"Mozilla/5.0 (Windows NT 6.1; WOW64) AppleWebK...</td>\n      <td>8</td>\n    </tr>\n    <tr>\n      <th>5</th>\n      <td>Tamba Trio</td>\n      <td>Logged In</td>\n      <td>Kaylee</td>\n      <td>F</td>\n      <td>4</td>\n      <td>Summers</td>\n      <td>177.18812</td>\n      <td>free</td>\n      <td>Phoenix-Mesa-Scottsdale, AZ</td>\n      <td>PUT</td>\n      <td>NextSong</td>\n      <td>1540344794796</td>\n      <td>139</td>\n      <td>Quem Quiser Encontrar O Amor</td>\n      <td>200</td>\n      <td>1541106496796</td>\n      <td>\"Mozilla/5.0 (Windows NT 6.1; WOW64) AppleWebK...</td>\n      <td>8</td>\n    </tr>\n    <tr>\n      <th>6</th>\n      <td>The Mars Volta</td>\n      <td>Logged In</td>\n      <td>Kaylee</td>\n      <td>F</td>\n      <td>5</td>\n      <td>Summers</td>\n      <td>380.42077</td>\n      <td>free</td>\n      <td>Phoenix-Mesa-Scottsdale, AZ</td>\n      <td>PUT</td>\n      <td>NextSong</td>\n      <td>1540344794796</td>\n      <td>139</td>\n      <td>Eriatarka</td>\n      <td>200</td>\n      <td>1541106673796</td>\n      <td>\"Mozilla/5.0 (Windows NT 6.1; WOW64) AppleWebK...</td>\n      <td>8</td>\n    </tr>\n    <tr>\n      <th>7</th>\n      <td>Infected Mushroom</td>\n      <td>Logged In</td>\n      <td>Kaylee</td>\n      <td>F</td>\n      <td>6</td>\n      <td>Summers</td>\n      <td>440.26730</td>\n      <td>free</td>\n      <td>Phoenix-Mesa-Scottsdale, AZ</td>\n      <td>PUT</td>\n      <td>NextSong</td>\n      <td>1540344794796</td>\n      <td>139</td>\n      <td>Becoming Insane</td>\n      <td>200</td>\n      <td>1541107053796</td>\n      <td>\"Mozilla/5.0 (Windows NT 6.1; WOW64) AppleWebK...</td>\n      <td>8</td>\n    </tr>\n  </tbody>\n</table>\n</div>"
     },
     "metadata": {},
     "execution_count": 19
    }
   ],
   "source": [
    "df.head()"
   ]
  },
  {
   "source": [
    "### extract songplays data"
   ],
   "cell_type": "markdown",
   "metadata": {}
  },
  {
   "cell_type": "code",
   "execution_count": 25,
   "metadata": {},
   "outputs": [
    {
     "output_type": "error",
     "ename": "TypeError",
     "evalue": "not all arguments converted during string formatting",
     "traceback": [
      "\u001b[1;31m---------------------------------------------------------------------------\u001b[0m",
      "\u001b[1;31mTypeError\u001b[0m                                 Traceback (most recent call last)",
      "\u001b[1;32m<ipython-input-25-fe441c14ed2e>\u001b[0m in \u001b[0;36m<module>\u001b[1;34m\u001b[0m\n\u001b[0;32m     12\u001b[0m     \u001b[1;31m# insert songplay record\u001b[0m\u001b[1;33m\u001b[0m\u001b[1;33m\u001b[0m\u001b[1;33m\u001b[0m\u001b[0m\n\u001b[0;32m     13\u001b[0m     \u001b[0msongplay_data\u001b[0m \u001b[1;33m=\u001b[0m \u001b[1;33m(\u001b[0m\u001b[0mindex\u001b[0m\u001b[1;33m,\u001b[0m \u001b[0mstarttime\u001b[0m\u001b[1;33m,\u001b[0m \u001b[0mrow\u001b[0m\u001b[1;33m.\u001b[0m\u001b[0muserId\u001b[0m\u001b[1;33m,\u001b[0m \u001b[0mrow\u001b[0m\u001b[1;33m.\u001b[0m\u001b[0mlevel\u001b[0m\u001b[1;33m,\u001b[0m \u001b[0msongid\u001b[0m\u001b[1;33m,\u001b[0m \u001b[0martistid\u001b[0m\u001b[1;33m,\u001b[0m \u001b[0mrow\u001b[0m\u001b[1;33m.\u001b[0m\u001b[0msessionId\u001b[0m\u001b[1;33m,\u001b[0m \u001b[0mrow\u001b[0m\u001b[1;33m.\u001b[0m\u001b[0mlocation\u001b[0m\u001b[1;33m,\u001b[0m \u001b[0mrow\u001b[0m\u001b[1;33m.\u001b[0m\u001b[0muserAgent\u001b[0m\u001b[1;33m)\u001b[0m\u001b[1;33m\u001b[0m\u001b[1;33m\u001b[0m\u001b[0m\n\u001b[1;32m---> 14\u001b[1;33m     \u001b[0mcursor\u001b[0m\u001b[1;33m.\u001b[0m\u001b[0mexecute\u001b[0m\u001b[1;33m(\u001b[0m\u001b[0msongplays_table_insert\u001b[0m\u001b[1;33m,\u001b[0m \u001b[0msongplay_data\u001b[0m\u001b[1;33m)\u001b[0m\u001b[1;33m\u001b[0m\u001b[1;33m\u001b[0m\u001b[0m\n\u001b[0m\u001b[0;32m     15\u001b[0m     \u001b[0mconn\u001b[0m\u001b[1;33m.\u001b[0m\u001b[0mcommit\u001b[0m\u001b[1;33m(\u001b[0m\u001b[1;33m)\u001b[0m\u001b[1;33m\u001b[0m\u001b[1;33m\u001b[0m\u001b[0m\n",
      "\u001b[1;31mTypeError\u001b[0m: not all arguments converted during string formatting"
     ]
    }
   ],
   "source": [
    "for index, row in df.iterrows():\n",
    "\n",
    "    # get song_id and artist_id from song and artist tables\n",
    "    cursor.execute(song_select, (row.song, row.artist, row.length))\n",
    "    results = cursor.fetchone()\n",
    "    if results:\n",
    "        songid, artistid = results\n",
    "    else:\n",
    "        songid, artistid = None, None\n",
    "    starttime = pd.to_datetime(row.ts, unit=\"ms\")\n",
    "\n",
    "    # insert songplay record\n",
    "    songplay_data = (index, starttime, row.userId, row.level, songid, artistid, row.sessionId, row.location, row.userAgent)\n",
    "    cursor.execute(songplays_table_insert, songplay_data)\n",
    "    conn.commit()"
   ]
  },
  {
   "source": [
    "# close database connection "
   ],
   "cell_type": "markdown",
   "metadata": {}
  },
  {
   "cell_type": "code",
   "execution_count": 21,
   "metadata": {},
   "outputs": [],
   "source": [
    "conn.close()"
   ]
  }
 ]
}